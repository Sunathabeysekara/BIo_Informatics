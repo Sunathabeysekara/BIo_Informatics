{
 "cells": [
  {
   "cell_type": "code",
   "execution_count": 1,
   "metadata": {},
   "outputs": [],
   "source": [
    "\n",
    "import numpy as np \n",
    "import pandas as pd \n",
    "from scipy import stats\n",
    "import math"
   ]
  },
  {
   "cell_type": "code",
   "execution_count": 5,
   "metadata": {},
   "outputs": [
    {
     "ename": "NameError",
     "evalue": "name 'math' is not defined",
     "output_type": "error",
     "traceback": [
      "\u001b[1;31m---------------------------------------------------------------------------\u001b[0m",
      "\u001b[1;31mNameError\u001b[0m                                 Traceback (most recent call last)",
      "Cell \u001b[1;32mIn[5], line 16\u001b[0m\n\u001b[0;32m     13\u001b[0m \u001b[39mfor\u001b[39;00m x \u001b[39min\u001b[39;00m set2:\n\u001b[0;32m     14\u001b[0m     x2sqr2\u001b[39m+\u001b[39m\u001b[39m=\u001b[39m\u001b[39mpow\u001b[39m(x\u001b[39m-\u001b[39mmean_set2,\u001b[39m2\u001b[39m)\n\u001b[1;32m---> 16\u001b[0m S_value\u001b[39m=\u001b[39mmath\u001b[39m.\u001b[39msqrt((x1sqr1\u001b[39m+\u001b[39mx2sqr2)\u001b[39m/\u001b[39m(\u001b[39mlen\u001b[39m(set1)\u001b[39m+\u001b[39m\u001b[39mlen\u001b[39m(set2)\u001b[39m-\u001b[39m\u001b[39m2\u001b[39m))\n\u001b[0;32m     18\u001b[0m t_value\u001b[39m=\u001b[39m((mean_set1\u001b[39m-\u001b[39mmean_set2)\u001b[39m/\u001b[39mS_value)\u001b[39m*\u001b[39mmath\u001b[39m.\u001b[39msqrt(\u001b[39mlen\u001b[39m(set1)\u001b[39m*\u001b[39m\u001b[39mlen\u001b[39m(set2)\u001b[39m/\u001b[39m(\u001b[39mlen\u001b[39m(set1\u001b[39m+\u001b[39m\u001b[39mlen\u001b[39m(set2))))\n\u001b[0;32m     19\u001b[0m \u001b[39mprint\u001b[39m(\u001b[39m\"\u001b[39m\u001b[39mT_value for the 2 samples:\u001b[39m\u001b[39m\"\u001b[39m,t_value)\n",
      "\u001b[1;31mNameError\u001b[0m: name 'math' is not defined"
     ]
    }
   ],
   "source": [
    "#sample set of nicotine\n",
    "set1=(21,24,25,26,27)\n",
    "set2=(22,27,28,30,31,36)\n",
    "\n",
    "mean_set1=sum(set1)/len(set1)\n",
    "mean_set2=sum(set2)/len(set2)\n",
    "\n",
    "x1sqr1=0\n",
    "x2sqr2=0\n",
    "for x in set1:\n",
    "    x1sqr1+=pow(x-mean_set1,2)\n",
    "    \n",
    "for x in set2:\n",
    "    x2sqr2+=pow(x-mean_set2,2)\n",
    "\n",
    "S_value=math.sqrt((x1sqr1+x2sqr2)/(len(set1)+len(set2)-2))\n",
    "\n",
    "t_value=((mean_set1-mean_set2)/S_value)*math.sqrt(len(set1)*len(set2)/(len(set1+len(set2))))\n",
    "print(\"T_value for the 2 samples:\",t_value)\n"
   ]
  }
 ],
 "metadata": {
  "kernelspec": {
   "display_name": "Python 3",
   "language": "python",
   "name": "python3"
  },
  "language_info": {
   "codemirror_mode": {
    "name": "ipython",
    "version": 3
   },
   "file_extension": ".py",
   "mimetype": "text/x-python",
   "name": "python",
   "nbconvert_exporter": "python",
   "pygments_lexer": "ipython3",
   "version": "3.12.0"
  },
  "orig_nbformat": 4
 },
 "nbformat": 4,
 "nbformat_minor": 2
}
