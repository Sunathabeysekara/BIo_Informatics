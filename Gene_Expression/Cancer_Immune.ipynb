{
 "cells": [
  {
   "cell_type": "code",
   "execution_count": 40,
   "id": "aab8e5bf",
   "metadata": {},
   "outputs": [],
   "source": [
    "import pandas as pd\n",
    "import numpy as np\n",
    "import matplotlib.pyplot as plt\n",
    "import seaborn as sns"
   ]
  },
  {
   "cell_type": "code",
   "execution_count": 41,
   "id": "eaec6dbb",
   "metadata": {},
   "outputs": [
    {
     "data": {
      "text/html": [
       "<div>\n",
       "<style scoped>\n",
       "    .dataframe tbody tr th:only-of-type {\n",
       "        vertical-align: middle;\n",
       "    }\n",
       "\n",
       "    .dataframe tbody tr th {\n",
       "        vertical-align: top;\n",
       "    }\n",
       "\n",
       "    .dataframe thead th {\n",
       "        text-align: right;\n",
       "    }\n",
       "</style>\n",
       "<table border=\"1\" class=\"dataframe\">\n",
       "  <thead>\n",
       "    <tr style=\"text-align: right;\">\n",
       "      <th></th>\n",
       "      <th>PatientID</th>\n",
       "      <th>Age</th>\n",
       "      <th>Gender</th>\n",
       "      <th>TumorType</th>\n",
       "      <th>ImmunotherapyType</th>\n",
       "      <th>BiomarkerExpressionLevel</th>\n",
       "      <th>TreatmentResponse</th>\n",
       "      <th>SurvivalInMonths</th>\n",
       "      <th>Relapse</th>\n",
       "      <th>MutationCount</th>\n",
       "    </tr>\n",
       "  </thead>\n",
       "  <tbody>\n",
       "    <tr>\n",
       "      <th>0</th>\n",
       "      <td>P001</td>\n",
       "      <td>45</td>\n",
       "      <td>F</td>\n",
       "      <td>Lung</td>\n",
       "      <td>PD-1 Inhibitor</td>\n",
       "      <td>High</td>\n",
       "      <td>Partial Response</td>\n",
       "      <td>12</td>\n",
       "      <td>Yes</td>\n",
       "      <td>150</td>\n",
       "    </tr>\n",
       "    <tr>\n",
       "      <th>1</th>\n",
       "      <td>P002</td>\n",
       "      <td>67</td>\n",
       "      <td>M</td>\n",
       "      <td>Breast</td>\n",
       "      <td>CTLA-4 Inhibitor</td>\n",
       "      <td>Low</td>\n",
       "      <td>Stable Disease</td>\n",
       "      <td>20</td>\n",
       "      <td>No</td>\n",
       "      <td>320</td>\n",
       "    </tr>\n",
       "    <tr>\n",
       "      <th>2</th>\n",
       "      <td>P003</td>\n",
       "      <td>55</td>\n",
       "      <td>F</td>\n",
       "      <td>Melanoma</td>\n",
       "      <td>PD-L1 Inhibitor</td>\n",
       "      <td>Medium</td>\n",
       "      <td>Complete Response</td>\n",
       "      <td>36</td>\n",
       "      <td>No</td>\n",
       "      <td>50</td>\n",
       "    </tr>\n",
       "    <tr>\n",
       "      <th>3</th>\n",
       "      <td>P004</td>\n",
       "      <td>70</td>\n",
       "      <td>M</td>\n",
       "      <td>Lung</td>\n",
       "      <td>PD-1 Inhibitor</td>\n",
       "      <td>High</td>\n",
       "      <td>Progressive Disease</td>\n",
       "      <td>10</td>\n",
       "      <td>Yes</td>\n",
       "      <td>200</td>\n",
       "    </tr>\n",
       "    <tr>\n",
       "      <th>4</th>\n",
       "      <td>P005</td>\n",
       "      <td>38</td>\n",
       "      <td>F</td>\n",
       "      <td>Lung</td>\n",
       "      <td>CTLA-4 Inhibitor</td>\n",
       "      <td>Medium</td>\n",
       "      <td>Partial Response</td>\n",
       "      <td>24</td>\n",
       "      <td>No</td>\n",
       "      <td>80</td>\n",
       "    </tr>\n",
       "  </tbody>\n",
       "</table>\n",
       "</div>"
      ],
      "text/plain": [
       "  PatientID  Age Gender TumorType ImmunotherapyType BiomarkerExpressionLevel  \\\n",
       "0      P001   45      F      Lung    PD-1 Inhibitor                     High   \n",
       "1      P002   67      M    Breast  CTLA-4 Inhibitor                      Low   \n",
       "2      P003   55      F  Melanoma   PD-L1 Inhibitor                   Medium   \n",
       "3      P004   70      M      Lung    PD-1 Inhibitor                     High   \n",
       "4      P005   38      F      Lung  CTLA-4 Inhibitor                   Medium   \n",
       "\n",
       "     TreatmentResponse  SurvivalInMonths Relapse  MutationCount  \n",
       "0     Partial Response                12     Yes            150  \n",
       "1       Stable Disease                20      No            320  \n",
       "2    Complete Response                36      No             50  \n",
       "3  Progressive Disease                10     Yes            200  \n",
       "4     Partial Response                24      No             80  "
      ]
     },
     "execution_count": 41,
     "metadata": {},
     "output_type": "execute_result"
    }
   ],
   "source": [
    "#da=pd.read_excel(path,sep='\\t')\n",
    "data=pd.read_csv(r'C:\\Users\\SUNATH\\Desktop\\four1 practicle\\bioinformatics\\cancer_immunotherapy.csv')\n",
    "data.head()"
   ]
  },
  {
   "cell_type": "code",
   "execution_count": 42,
   "id": "889ef45d",
   "metadata": {},
   "outputs": [
    {
     "data": {
      "text/html": [
       "<div>\n",
       "<style scoped>\n",
       "    .dataframe tbody tr th:only-of-type {\n",
       "        vertical-align: middle;\n",
       "    }\n",
       "\n",
       "    .dataframe tbody tr th {\n",
       "        vertical-align: top;\n",
       "    }\n",
       "\n",
       "    .dataframe thead th {\n",
       "        text-align: right;\n",
       "    }\n",
       "</style>\n",
       "<table border=\"1\" class=\"dataframe\">\n",
       "  <thead>\n",
       "    <tr style=\"text-align: right;\">\n",
       "      <th></th>\n",
       "      <th>PatientID</th>\n",
       "      <th>Age</th>\n",
       "      <th>Gender</th>\n",
       "      <th>TumorType</th>\n",
       "      <th>ImmunotherapyType</th>\n",
       "      <th>BiomarkerExpressionLevel</th>\n",
       "      <th>TreatmentResponse</th>\n",
       "      <th>SurvivalInMonths</th>\n",
       "      <th>Relapse</th>\n",
       "      <th>MutationCount</th>\n",
       "    </tr>\n",
       "  </thead>\n",
       "  <tbody>\n",
       "    <tr>\n",
       "      <th>0</th>\n",
       "      <td>P001</td>\n",
       "      <td>45</td>\n",
       "      <td>F</td>\n",
       "      <td>Lung</td>\n",
       "      <td>PD-1 Inhibitor</td>\n",
       "      <td>High</td>\n",
       "      <td>Partial Response</td>\n",
       "      <td>12</td>\n",
       "      <td>Yes</td>\n",
       "      <td>150</td>\n",
       "    </tr>\n",
       "    <tr>\n",
       "      <th>1</th>\n",
       "      <td>P002</td>\n",
       "      <td>67</td>\n",
       "      <td>M</td>\n",
       "      <td>Breast</td>\n",
       "      <td>CTLA-4 Inhibitor</td>\n",
       "      <td>Low</td>\n",
       "      <td>Stable Disease</td>\n",
       "      <td>20</td>\n",
       "      <td>No</td>\n",
       "      <td>320</td>\n",
       "    </tr>\n",
       "    <tr>\n",
       "      <th>2</th>\n",
       "      <td>P003</td>\n",
       "      <td>55</td>\n",
       "      <td>F</td>\n",
       "      <td>Melanoma</td>\n",
       "      <td>PD-L1 Inhibitor</td>\n",
       "      <td>Medium</td>\n",
       "      <td>Complete Response</td>\n",
       "      <td>36</td>\n",
       "      <td>No</td>\n",
       "      <td>50</td>\n",
       "    </tr>\n",
       "    <tr>\n",
       "      <th>3</th>\n",
       "      <td>P004</td>\n",
       "      <td>70</td>\n",
       "      <td>M</td>\n",
       "      <td>Lung</td>\n",
       "      <td>PD-1 Inhibitor</td>\n",
       "      <td>High</td>\n",
       "      <td>Progressive Disease</td>\n",
       "      <td>10</td>\n",
       "      <td>Yes</td>\n",
       "      <td>200</td>\n",
       "    </tr>\n",
       "    <tr>\n",
       "      <th>4</th>\n",
       "      <td>P005</td>\n",
       "      <td>38</td>\n",
       "      <td>F</td>\n",
       "      <td>Lung</td>\n",
       "      <td>CTLA-4 Inhibitor</td>\n",
       "      <td>Medium</td>\n",
       "      <td>Partial Response</td>\n",
       "      <td>24</td>\n",
       "      <td>No</td>\n",
       "      <td>80</td>\n",
       "    </tr>\n",
       "    <tr>\n",
       "      <th>5</th>\n",
       "      <td>P006</td>\n",
       "      <td>60</td>\n",
       "      <td>F</td>\n",
       "      <td>Melanoma</td>\n",
       "      <td>PD-L1 Inhibitor</td>\n",
       "      <td>High</td>\n",
       "      <td>Stable Disease</td>\n",
       "      <td>30</td>\n",
       "      <td>Yes</td>\n",
       "      <td>220</td>\n",
       "    </tr>\n",
       "    <tr>\n",
       "      <th>6</th>\n",
       "      <td>P007</td>\n",
       "      <td>72</td>\n",
       "      <td>M</td>\n",
       "      <td>Breast</td>\n",
       "      <td>PD-1 Inhibitor</td>\n",
       "      <td>Low</td>\n",
       "      <td>Progressive Disease</td>\n",
       "      <td>8</td>\n",
       "      <td>Yes</td>\n",
       "      <td>400</td>\n",
       "    </tr>\n",
       "    <tr>\n",
       "      <th>7</th>\n",
       "      <td>P008</td>\n",
       "      <td>50</td>\n",
       "      <td>F</td>\n",
       "      <td>Melanoma</td>\n",
       "      <td>CTLA-4 Inhibitor</td>\n",
       "      <td>Medium</td>\n",
       "      <td>Complete Response</td>\n",
       "      <td>48</td>\n",
       "      <td>No</td>\n",
       "      <td>180</td>\n",
       "    </tr>\n",
       "    <tr>\n",
       "      <th>8</th>\n",
       "      <td>P009</td>\n",
       "      <td>65</td>\n",
       "      <td>M</td>\n",
       "      <td>Lung</td>\n",
       "      <td>PD-L1 Inhibitor</td>\n",
       "      <td>High</td>\n",
       "      <td>Stable Disease</td>\n",
       "      <td>14</td>\n",
       "      <td>No</td>\n",
       "      <td>250</td>\n",
       "    </tr>\n",
       "    <tr>\n",
       "      <th>9</th>\n",
       "      <td>P010</td>\n",
       "      <td>42</td>\n",
       "      <td>F</td>\n",
       "      <td>Breast</td>\n",
       "      <td>PD-1 Inhibitor</td>\n",
       "      <td>Low</td>\n",
       "      <td>Partial Response</td>\n",
       "      <td>16</td>\n",
       "      <td>Yes</td>\n",
       "      <td>300</td>\n",
       "    </tr>\n",
       "  </tbody>\n",
       "</table>\n",
       "</div>"
      ],
      "text/plain": [
       "  PatientID  Age Gender TumorType ImmunotherapyType BiomarkerExpressionLevel  \\\n",
       "0      P001   45      F      Lung    PD-1 Inhibitor                     High   \n",
       "1      P002   67      M    Breast  CTLA-4 Inhibitor                      Low   \n",
       "2      P003   55      F  Melanoma   PD-L1 Inhibitor                   Medium   \n",
       "3      P004   70      M      Lung    PD-1 Inhibitor                     High   \n",
       "4      P005   38      F      Lung  CTLA-4 Inhibitor                   Medium   \n",
       "5      P006   60      F  Melanoma   PD-L1 Inhibitor                     High   \n",
       "6      P007   72      M    Breast    PD-1 Inhibitor                      Low   \n",
       "7      P008   50      F  Melanoma  CTLA-4 Inhibitor                   Medium   \n",
       "8      P009   65      M      Lung   PD-L1 Inhibitor                     High   \n",
       "9      P010   42      F    Breast    PD-1 Inhibitor                      Low   \n",
       "\n",
       "     TreatmentResponse  SurvivalInMonths Relapse  MutationCount  \n",
       "0     Partial Response                12     Yes            150  \n",
       "1       Stable Disease                20      No            320  \n",
       "2    Complete Response                36      No             50  \n",
       "3  Progressive Disease                10     Yes            200  \n",
       "4     Partial Response                24      No             80  \n",
       "5       Stable Disease                30     Yes            220  \n",
       "6  Progressive Disease                 8     Yes            400  \n",
       "7    Complete Response                48      No            180  \n",
       "8       Stable Disease                14      No            250  \n",
       "9     Partial Response                16     Yes            300  "
      ]
     },
     "execution_count": 42,
     "metadata": {},
     "output_type": "execute_result"
    }
   ],
   "source": [
    "data.iloc[:,:]"
   ]
  },
  {
   "cell_type": "code",
   "execution_count": 43,
   "id": "622f0902",
   "metadata": {},
   "outputs": [
    {
     "data": {
      "text/plain": [
       "0    P001\n",
       "3    P004\n",
       "6    P007\n",
       "9    P010\n",
       "Name: PatientID, dtype: object"
      ]
     },
     "execution_count": 43,
     "metadata": {},
     "output_type": "execute_result"
    }
   ],
   "source": [
    "data[data['ImmunotherapyType']=='PD-1 Inhibitor'].PatientID"
   ]
  },
  {
   "cell_type": "code",
   "execution_count": 44,
   "id": "fccc8caf",
   "metadata": {},
   "outputs": [
    {
     "data": {
      "text/plain": [
       "42.0"
      ]
     },
     "execution_count": 44,
     "metadata": {},
     "output_type": "execute_result"
    }
   ],
   "source": [
    "data[data['TreatmentResponse']=='Complete Response'].SurvivalInMonths.mean()"
   ]
  },
  {
   "cell_type": "code",
   "execution_count": 45,
   "id": "d6510f65",
   "metadata": {},
   "outputs": [
    {
     "data": {
      "text/html": [
       "<div>\n",
       "<style scoped>\n",
       "    .dataframe tbody tr th:only-of-type {\n",
       "        vertical-align: middle;\n",
       "    }\n",
       "\n",
       "    .dataframe tbody tr th {\n",
       "        vertical-align: top;\n",
       "    }\n",
       "\n",
       "    .dataframe thead th {\n",
       "        text-align: right;\n",
       "    }\n",
       "</style>\n",
       "<table border=\"1\" class=\"dataframe\">\n",
       "  <thead>\n",
       "    <tr style=\"text-align: right;\">\n",
       "      <th></th>\n",
       "      <th>PatientID</th>\n",
       "      <th>Age</th>\n",
       "      <th>Gender</th>\n",
       "      <th>TumorType</th>\n",
       "      <th>ImmunotherapyType</th>\n",
       "      <th>BiomarkerExpressionLevel</th>\n",
       "      <th>TreatmentResponse</th>\n",
       "      <th>SurvivalInMonths</th>\n",
       "      <th>Relapse</th>\n",
       "      <th>MutationCount</th>\n",
       "    </tr>\n",
       "  </thead>\n",
       "  <tbody>\n",
       "    <tr>\n",
       "      <th>0</th>\n",
       "      <td>P001</td>\n",
       "      <td>45</td>\n",
       "      <td>F</td>\n",
       "      <td>Lung</td>\n",
       "      <td>PD-1 Inhibitor</td>\n",
       "      <td>High</td>\n",
       "      <td>Partial Response</td>\n",
       "      <td>12</td>\n",
       "      <td>Yes</td>\n",
       "      <td>150</td>\n",
       "    </tr>\n",
       "    <tr>\n",
       "      <th>1</th>\n",
       "      <td>P002</td>\n",
       "      <td>67</td>\n",
       "      <td>M</td>\n",
       "      <td>Breast</td>\n",
       "      <td>CTLA-4 Inhibitor</td>\n",
       "      <td>Low</td>\n",
       "      <td>Stable Disease</td>\n",
       "      <td>20</td>\n",
       "      <td>No</td>\n",
       "      <td>320</td>\n",
       "    </tr>\n",
       "    <tr>\n",
       "      <th>3</th>\n",
       "      <td>P004</td>\n",
       "      <td>70</td>\n",
       "      <td>M</td>\n",
       "      <td>Lung</td>\n",
       "      <td>PD-1 Inhibitor</td>\n",
       "      <td>High</td>\n",
       "      <td>Progressive Disease</td>\n",
       "      <td>10</td>\n",
       "      <td>Yes</td>\n",
       "      <td>200</td>\n",
       "    </tr>\n",
       "    <tr>\n",
       "      <th>5</th>\n",
       "      <td>P006</td>\n",
       "      <td>60</td>\n",
       "      <td>F</td>\n",
       "      <td>Melanoma</td>\n",
       "      <td>PD-L1 Inhibitor</td>\n",
       "      <td>High</td>\n",
       "      <td>Stable Disease</td>\n",
       "      <td>30</td>\n",
       "      <td>Yes</td>\n",
       "      <td>220</td>\n",
       "    </tr>\n",
       "    <tr>\n",
       "      <th>6</th>\n",
       "      <td>P007</td>\n",
       "      <td>72</td>\n",
       "      <td>M</td>\n",
       "      <td>Breast</td>\n",
       "      <td>PD-1 Inhibitor</td>\n",
       "      <td>Low</td>\n",
       "      <td>Progressive Disease</td>\n",
       "      <td>8</td>\n",
       "      <td>Yes</td>\n",
       "      <td>400</td>\n",
       "    </tr>\n",
       "    <tr>\n",
       "      <th>8</th>\n",
       "      <td>P009</td>\n",
       "      <td>65</td>\n",
       "      <td>M</td>\n",
       "      <td>Lung</td>\n",
       "      <td>PD-L1 Inhibitor</td>\n",
       "      <td>High</td>\n",
       "      <td>Stable Disease</td>\n",
       "      <td>14</td>\n",
       "      <td>No</td>\n",
       "      <td>250</td>\n",
       "    </tr>\n",
       "    <tr>\n",
       "      <th>9</th>\n",
       "      <td>P010</td>\n",
       "      <td>42</td>\n",
       "      <td>F</td>\n",
       "      <td>Breast</td>\n",
       "      <td>PD-1 Inhibitor</td>\n",
       "      <td>Low</td>\n",
       "      <td>Partial Response</td>\n",
       "      <td>16</td>\n",
       "      <td>Yes</td>\n",
       "      <td>300</td>\n",
       "    </tr>\n",
       "  </tbody>\n",
       "</table>\n",
       "</div>"
      ],
      "text/plain": [
       "  PatientID  Age Gender TumorType ImmunotherapyType BiomarkerExpressionLevel  \\\n",
       "0      P001   45      F      Lung    PD-1 Inhibitor                     High   \n",
       "1      P002   67      M    Breast  CTLA-4 Inhibitor                      Low   \n",
       "3      P004   70      M      Lung    PD-1 Inhibitor                     High   \n",
       "5      P006   60      F  Melanoma   PD-L1 Inhibitor                     High   \n",
       "6      P007   72      M    Breast    PD-1 Inhibitor                      Low   \n",
       "8      P009   65      M      Lung   PD-L1 Inhibitor                     High   \n",
       "9      P010   42      F    Breast    PD-1 Inhibitor                      Low   \n",
       "\n",
       "     TreatmentResponse  SurvivalInMonths Relapse  MutationCount  \n",
       "0     Partial Response                12     Yes            150  \n",
       "1       Stable Disease                20      No            320  \n",
       "3  Progressive Disease                10     Yes            200  \n",
       "5       Stable Disease                30     Yes            220  \n",
       "6  Progressive Disease                 8     Yes            400  \n",
       "8       Stable Disease                14      No            250  \n",
       "9     Partial Response                16     Yes            300  "
      ]
     },
     "execution_count": 45,
     "metadata": {},
     "output_type": "execute_result"
    }
   ],
   "source": [
    "data[(data['BiomarkerExpressionLevel']=='High') | (data['BiomarkerExpressionLevel']=='Low')]"
   ]
  },
  {
   "cell_type": "code",
   "execution_count": 46,
   "id": "d9db318b",
   "metadata": {},
   "outputs": [
    {
     "data": {
      "text/plain": [
       "5"
      ]
     },
     "execution_count": 46,
     "metadata": {},
     "output_type": "execute_result"
    }
   ],
   "source": [
    "data[data['Relapse']=='Yes'].PatientID.count()"
   ]
  },
  {
   "cell_type": "code",
   "execution_count": 47,
   "id": "b435be89",
   "metadata": {},
   "outputs": [
    {
     "data": {
      "text/plain": [
       "0    3.333333\n",
       "1    4.776119\n",
       "2    0.909091\n",
       "3    2.857143\n",
       "4    2.105263\n",
       "5    3.666667\n",
       "6    5.555556\n",
       "7    3.600000\n",
       "8    3.846154\n",
       "9    7.142857\n",
       "Name: MutationDensity, dtype: float64"
      ]
     },
     "execution_count": 47,
     "metadata": {},
     "output_type": "execute_result"
    }
   ],
   "source": [
    "data['MutationDensity']=data['MutationCount']/data['Age']\n",
    "data.MutationDensity"
   ]
  },
  {
   "cell_type": "code",
   "execution_count": 48,
   "id": "15a273dd",
   "metadata": {},
   "outputs": [
    {
     "data": {
      "text/plain": [
       "680"
      ]
     },
     "execution_count": 48,
     "metadata": {},
     "output_type": "execute_result"
    }
   ],
   "source": [
    "data[data['TumorType']=='Lung'].MutationCount.sum()"
   ]
  },
  {
   "cell_type": "code",
   "execution_count": 49,
   "id": "b2688ba1",
   "metadata": {},
   "outputs": [
    {
     "data": {
      "text/html": [
       "<div>\n",
       "<style scoped>\n",
       "    .dataframe tbody tr th:only-of-type {\n",
       "        vertical-align: middle;\n",
       "    }\n",
       "\n",
       "    .dataframe tbody tr th {\n",
       "        vertical-align: top;\n",
       "    }\n",
       "\n",
       "    .dataframe thead th {\n",
       "        text-align: right;\n",
       "    }\n",
       "</style>\n",
       "<table border=\"1\" class=\"dataframe\">\n",
       "  <thead>\n",
       "    <tr style=\"text-align: right;\">\n",
       "      <th></th>\n",
       "      <th>PatientID</th>\n",
       "      <th>Age</th>\n",
       "      <th>Gender</th>\n",
       "      <th>TumorType</th>\n",
       "      <th>ImmunotherapyType</th>\n",
       "      <th>BiomarkerExpressionLevel</th>\n",
       "      <th>TreatmentResponse</th>\n",
       "      <th>SurvivalInMonths</th>\n",
       "      <th>Relapse</th>\n",
       "      <th>MutationCount</th>\n",
       "      <th>MutationDensity</th>\n",
       "    </tr>\n",
       "  </thead>\n",
       "  <tbody>\n",
       "    <tr>\n",
       "      <th>7</th>\n",
       "      <td>P008</td>\n",
       "      <td>50</td>\n",
       "      <td>F</td>\n",
       "      <td>Melanoma</td>\n",
       "      <td>CTLA-4 Inhibitor</td>\n",
       "      <td>Medium</td>\n",
       "      <td>Complete Response</td>\n",
       "      <td>48</td>\n",
       "      <td>No</td>\n",
       "      <td>180</td>\n",
       "      <td>3.600000</td>\n",
       "    </tr>\n",
       "    <tr>\n",
       "      <th>2</th>\n",
       "      <td>P003</td>\n",
       "      <td>55</td>\n",
       "      <td>F</td>\n",
       "      <td>Melanoma</td>\n",
       "      <td>PD-L1 Inhibitor</td>\n",
       "      <td>Medium</td>\n",
       "      <td>Complete Response</td>\n",
       "      <td>36</td>\n",
       "      <td>No</td>\n",
       "      <td>50</td>\n",
       "      <td>0.909091</td>\n",
       "    </tr>\n",
       "    <tr>\n",
       "      <th>5</th>\n",
       "      <td>P006</td>\n",
       "      <td>60</td>\n",
       "      <td>F</td>\n",
       "      <td>Melanoma</td>\n",
       "      <td>PD-L1 Inhibitor</td>\n",
       "      <td>High</td>\n",
       "      <td>Stable Disease</td>\n",
       "      <td>30</td>\n",
       "      <td>Yes</td>\n",
       "      <td>220</td>\n",
       "      <td>3.666667</td>\n",
       "    </tr>\n",
       "    <tr>\n",
       "      <th>4</th>\n",
       "      <td>P005</td>\n",
       "      <td>38</td>\n",
       "      <td>F</td>\n",
       "      <td>Lung</td>\n",
       "      <td>CTLA-4 Inhibitor</td>\n",
       "      <td>Medium</td>\n",
       "      <td>Partial Response</td>\n",
       "      <td>24</td>\n",
       "      <td>No</td>\n",
       "      <td>80</td>\n",
       "      <td>2.105263</td>\n",
       "    </tr>\n",
       "    <tr>\n",
       "      <th>1</th>\n",
       "      <td>P002</td>\n",
       "      <td>67</td>\n",
       "      <td>M</td>\n",
       "      <td>Breast</td>\n",
       "      <td>CTLA-4 Inhibitor</td>\n",
       "      <td>Low</td>\n",
       "      <td>Stable Disease</td>\n",
       "      <td>20</td>\n",
       "      <td>No</td>\n",
       "      <td>320</td>\n",
       "      <td>4.776119</td>\n",
       "    </tr>\n",
       "    <tr>\n",
       "      <th>9</th>\n",
       "      <td>P010</td>\n",
       "      <td>42</td>\n",
       "      <td>F</td>\n",
       "      <td>Breast</td>\n",
       "      <td>PD-1 Inhibitor</td>\n",
       "      <td>Low</td>\n",
       "      <td>Partial Response</td>\n",
       "      <td>16</td>\n",
       "      <td>Yes</td>\n",
       "      <td>300</td>\n",
       "      <td>7.142857</td>\n",
       "    </tr>\n",
       "    <tr>\n",
       "      <th>8</th>\n",
       "      <td>P009</td>\n",
       "      <td>65</td>\n",
       "      <td>M</td>\n",
       "      <td>Lung</td>\n",
       "      <td>PD-L1 Inhibitor</td>\n",
       "      <td>High</td>\n",
       "      <td>Stable Disease</td>\n",
       "      <td>14</td>\n",
       "      <td>No</td>\n",
       "      <td>250</td>\n",
       "      <td>3.846154</td>\n",
       "    </tr>\n",
       "    <tr>\n",
       "      <th>0</th>\n",
       "      <td>P001</td>\n",
       "      <td>45</td>\n",
       "      <td>F</td>\n",
       "      <td>Lung</td>\n",
       "      <td>PD-1 Inhibitor</td>\n",
       "      <td>High</td>\n",
       "      <td>Partial Response</td>\n",
       "      <td>12</td>\n",
       "      <td>Yes</td>\n",
       "      <td>150</td>\n",
       "      <td>3.333333</td>\n",
       "    </tr>\n",
       "    <tr>\n",
       "      <th>3</th>\n",
       "      <td>P004</td>\n",
       "      <td>70</td>\n",
       "      <td>M</td>\n",
       "      <td>Lung</td>\n",
       "      <td>PD-1 Inhibitor</td>\n",
       "      <td>High</td>\n",
       "      <td>Progressive Disease</td>\n",
       "      <td>10</td>\n",
       "      <td>Yes</td>\n",
       "      <td>200</td>\n",
       "      <td>2.857143</td>\n",
       "    </tr>\n",
       "    <tr>\n",
       "      <th>6</th>\n",
       "      <td>P007</td>\n",
       "      <td>72</td>\n",
       "      <td>M</td>\n",
       "      <td>Breast</td>\n",
       "      <td>PD-1 Inhibitor</td>\n",
       "      <td>Low</td>\n",
       "      <td>Progressive Disease</td>\n",
       "      <td>8</td>\n",
       "      <td>Yes</td>\n",
       "      <td>400</td>\n",
       "      <td>5.555556</td>\n",
       "    </tr>\n",
       "  </tbody>\n",
       "</table>\n",
       "</div>"
      ],
      "text/plain": [
       "  PatientID  Age Gender TumorType ImmunotherapyType BiomarkerExpressionLevel  \\\n",
       "7      P008   50      F  Melanoma  CTLA-4 Inhibitor                   Medium   \n",
       "2      P003   55      F  Melanoma   PD-L1 Inhibitor                   Medium   \n",
       "5      P006   60      F  Melanoma   PD-L1 Inhibitor                     High   \n",
       "4      P005   38      F      Lung  CTLA-4 Inhibitor                   Medium   \n",
       "1      P002   67      M    Breast  CTLA-4 Inhibitor                      Low   \n",
       "9      P010   42      F    Breast    PD-1 Inhibitor                      Low   \n",
       "8      P009   65      M      Lung   PD-L1 Inhibitor                     High   \n",
       "0      P001   45      F      Lung    PD-1 Inhibitor                     High   \n",
       "3      P004   70      M      Lung    PD-1 Inhibitor                     High   \n",
       "6      P007   72      M    Breast    PD-1 Inhibitor                      Low   \n",
       "\n",
       "     TreatmentResponse  SurvivalInMonths Relapse  MutationCount  \\\n",
       "7    Complete Response                48      No            180   \n",
       "2    Complete Response                36      No             50   \n",
       "5       Stable Disease                30     Yes            220   \n",
       "4     Partial Response                24      No             80   \n",
       "1       Stable Disease                20      No            320   \n",
       "9     Partial Response                16     Yes            300   \n",
       "8       Stable Disease                14      No            250   \n",
       "0     Partial Response                12     Yes            150   \n",
       "3  Progressive Disease                10     Yes            200   \n",
       "6  Progressive Disease                 8     Yes            400   \n",
       "\n",
       "   MutationDensity  \n",
       "7         3.600000  \n",
       "2         0.909091  \n",
       "5         3.666667  \n",
       "4         2.105263  \n",
       "1         4.776119  \n",
       "9         7.142857  \n",
       "8         3.846154  \n",
       "0         3.333333  \n",
       "3         2.857143  \n",
       "6         5.555556  "
      ]
     },
     "execution_count": 49,
     "metadata": {},
     "output_type": "execute_result"
    }
   ],
   "source": [
    "data.sort_values(by='SurvivalInMonths',ascending=False)"
   ]
  },
  {
   "cell_type": "code",
   "execution_count": 50,
   "id": "9e3e9bfa",
   "metadata": {},
   "outputs": [
    {
     "data": {
      "text/html": [
       "<div>\n",
       "<style scoped>\n",
       "    .dataframe tbody tr th:only-of-type {\n",
       "        vertical-align: middle;\n",
       "    }\n",
       "\n",
       "    .dataframe tbody tr th {\n",
       "        vertical-align: top;\n",
       "    }\n",
       "\n",
       "    .dataframe thead th {\n",
       "        text-align: right;\n",
       "    }\n",
       "</style>\n",
       "<table border=\"1\" class=\"dataframe\">\n",
       "  <thead>\n",
       "    <tr style=\"text-align: right;\">\n",
       "      <th></th>\n",
       "      <th>PatientID</th>\n",
       "      <th>SurvivalInMonths</th>\n",
       "    </tr>\n",
       "  </thead>\n",
       "  <tbody>\n",
       "    <tr>\n",
       "      <th>6</th>\n",
       "      <td>P007</td>\n",
       "      <td>8</td>\n",
       "    </tr>\n",
       "  </tbody>\n",
       "</table>\n",
       "</div>"
      ],
      "text/plain": [
       "  PatientID  SurvivalInMonths\n",
       "6      P007                 8"
      ]
     },
     "execution_count": 50,
     "metadata": {},
     "output_type": "execute_result"
    }
   ],
   "source": [
    "maxvalue=data['MutationCount'].max()\n",
    "y=data[data['MutationCount']==maxvalue]\n",
    "y[['PatientID','SurvivalInMonths']]"
   ]
  },
  {
   "cell_type": "code",
   "execution_count": 51,
   "id": "e88de536",
   "metadata": {},
   "outputs": [
    {
     "data": {
      "text/html": [
       "<div>\n",
       "<style scoped>\n",
       "    .dataframe tbody tr th:only-of-type {\n",
       "        vertical-align: middle;\n",
       "    }\n",
       "\n",
       "    .dataframe tbody tr th {\n",
       "        vertical-align: top;\n",
       "    }\n",
       "\n",
       "    .dataframe thead th {\n",
       "        text-align: right;\n",
       "    }\n",
       "</style>\n",
       "<table border=\"1\" class=\"dataframe\">\n",
       "  <thead>\n",
       "    <tr style=\"text-align: right;\">\n",
       "      <th></th>\n",
       "      <th>PatientID</th>\n",
       "      <th>Age</th>\n",
       "      <th>Gender</th>\n",
       "      <th>TumorType</th>\n",
       "      <th>ImmunotherapyType</th>\n",
       "      <th>BiomarkerExpressionLevel</th>\n",
       "      <th>TreatmentResponse</th>\n",
       "      <th>SurvivalInMonths</th>\n",
       "      <th>Relapse</th>\n",
       "      <th>MutationCount</th>\n",
       "      <th>MutationDensity</th>\n",
       "    </tr>\n",
       "  </thead>\n",
       "  <tbody>\n",
       "    <tr>\n",
       "      <th>1</th>\n",
       "      <td>P002</td>\n",
       "      <td>67</td>\n",
       "      <td>M</td>\n",
       "      <td>Breast</td>\n",
       "      <td>CTLA-4 Inhibitor</td>\n",
       "      <td>Low</td>\n",
       "      <td>Stable Disease</td>\n",
       "      <td>20</td>\n",
       "      <td>No</td>\n",
       "      <td>320</td>\n",
       "      <td>4.776119</td>\n",
       "    </tr>\n",
       "    <tr>\n",
       "      <th>8</th>\n",
       "      <td>P009</td>\n",
       "      <td>65</td>\n",
       "      <td>M</td>\n",
       "      <td>Lung</td>\n",
       "      <td>PD-L1 Inhibitor</td>\n",
       "      <td>High</td>\n",
       "      <td>Stable Disease</td>\n",
       "      <td>14</td>\n",
       "      <td>No</td>\n",
       "      <td>250</td>\n",
       "      <td>3.846154</td>\n",
       "    </tr>\n",
       "  </tbody>\n",
       "</table>\n",
       "</div>"
      ],
      "text/plain": [
       "  PatientID  Age Gender TumorType ImmunotherapyType BiomarkerExpressionLevel  \\\n",
       "1      P002   67      M    Breast  CTLA-4 Inhibitor                      Low   \n",
       "8      P009   65      M      Lung   PD-L1 Inhibitor                     High   \n",
       "\n",
       "  TreatmentResponse  SurvivalInMonths Relapse  MutationCount  MutationDensity  \n",
       "1    Stable Disease                20      No            320         4.776119  \n",
       "8    Stable Disease                14      No            250         3.846154  "
      ]
     },
     "execution_count": 51,
     "metadata": {},
     "output_type": "execute_result"
    }
   ],
   "source": [
    "data[(data['Age']>60) & (data['TreatmentResponse']=='Stable Disease')]"
   ]
  },
  {
   "cell_type": "code",
   "execution_count": 52,
   "id": "9c1d1239",
   "metadata": {},
   "outputs": [
    {
     "data": {
      "text/plain": [
       "176.0"
      ]
     },
     "execution_count": 52,
     "metadata": {},
     "output_type": "execute_result"
    }
   ],
   "source": [
    "data[data['Relapse']=='No'].MutationCount.mean()"
   ]
  },
  {
   "cell_type": "code",
   "execution_count": 59,
   "id": "e37e41eb",
   "metadata": {},
   "outputs": [
    {
     "data": {
      "text/plain": [
       "TumorType\n",
       "Breast      14.666667\n",
       "Lung        15.000000\n",
       "Melanoma    38.000000\n",
       "Name: SurvivalInMonths, dtype: float64"
      ]
     },
     "execution_count": 59,
     "metadata": {},
     "output_type": "execute_result"
    }
   ],
   "source": [
    "data.groupby('TumorType')['SurvivalInMonths'].mean()"
   ]
  },
  {
   "cell_type": "code",
   "execution_count": 62,
   "id": "14ec32eb",
   "metadata": {},
   "outputs": [
    {
     "data": {
      "image/png": "[encoded data removed]",
      "text/plain": [
       "<Figure size 640x480 with 1 Axes>"
      ]
     },
     "metadata": {},
     "output_type": "display_data"
    }
   ],
   "source": [
    "plt.plot(data['PatientID'],data['SurvivalInMonths'])\n",
    "plt.scatter(data['PatientID'],data['SurvivalInMonths'])\n",
    "plt.show()"
   ]
  },
  {
   "cell_type": "code",
   "execution_count": 68,
   "id": "1a395173",
   "metadata": {},
   "outputs": [
    {
     "data": {
      "image/png": "[encoded data removed]",
      "text/plain": [
       "<Figure size 640x480 with 1 Axes>"
      ]
     },
     "metadata": {},
     "output_type": "display_data"
    }
   ],
   "source": [
    "sns.boxplot(data=[data.Age*4,data.MutationCount])\n",
    "plt.xticks([0,1],['Age','MutationCount'])\n",
    "plt.xlabel('types')\n",
    "plt.ylabel('value')\n",
    "plt.show()"
   ]
  },
  {
   "cell_type": "code",
   "execution_count": 71,
   "id": "224530cd",
   "metadata": {},
   "outputs": [
    {
     "data": {
      "text/html": [
       "<div>\n",
       "<style scoped>\n",
       "    .dataframe tbody tr th:only-of-type {\n",
       "        vertical-align: middle;\n",
       "    }\n",
       "\n",
       "    .dataframe tbody tr th {\n",
       "        vertical-align: top;\n",
       "    }\n",
       "\n",
       "    .dataframe thead th {\n",
       "        text-align: right;\n",
       "    }\n",
       "</style>\n",
       "<table border=\"1\" class=\"dataframe\">\n",
       "  <thead>\n",
       "    <tr style=\"text-align: right;\">\n",
       "      <th></th>\n",
       "      <th>Age</th>\n",
       "      <th>SurvivalInMonths</th>\n",
       "      <th>MutationCount</th>\n",
       "      <th>MutationDensity</th>\n",
       "    </tr>\n",
       "  </thead>\n",
       "  <tbody>\n",
       "    <tr>\n",
       "      <th>0</th>\n",
       "      <td>45</td>\n",
       "      <td>12</td>\n",
       "      <td>150</td>\n",
       "      <td>3.333333</td>\n",
       "    </tr>\n",
       "    <tr>\n",
       "      <th>1</th>\n",
       "      <td>67</td>\n",
       "      <td>20</td>\n",
       "      <td>320</td>\n",
       "      <td>4.776119</td>\n",
       "    </tr>\n",
       "    <tr>\n",
       "      <th>2</th>\n",
       "      <td>55</td>\n",
       "      <td>36</td>\n",
       "      <td>50</td>\n",
       "      <td>0.909091</td>\n",
       "    </tr>\n",
       "    <tr>\n",
       "      <th>3</th>\n",
       "      <td>70</td>\n",
       "      <td>10</td>\n",
       "      <td>200</td>\n",
       "      <td>2.857143</td>\n",
       "    </tr>\n",
       "    <tr>\n",
       "      <th>4</th>\n",
       "      <td>38</td>\n",
       "      <td>24</td>\n",
       "      <td>80</td>\n",
       "      <td>2.105263</td>\n",
       "    </tr>\n",
       "    <tr>\n",
       "      <th>5</th>\n",
       "      <td>60</td>\n",
       "      <td>30</td>\n",
       "      <td>220</td>\n",
       "      <td>3.666667</td>\n",
       "    </tr>\n",
       "    <tr>\n",
       "      <th>6</th>\n",
       "      <td>72</td>\n",
       "      <td>8</td>\n",
       "      <td>400</td>\n",
       "      <td>5.555556</td>\n",
       "    </tr>\n",
       "    <tr>\n",
       "      <th>7</th>\n",
       "      <td>50</td>\n",
       "      <td>48</td>\n",
       "      <td>180</td>\n",
       "      <td>3.600000</td>\n",
       "    </tr>\n",
       "    <tr>\n",
       "      <th>8</th>\n",
       "      <td>65</td>\n",
       "      <td>14</td>\n",
       "      <td>250</td>\n",
       "      <td>3.846154</td>\n",
       "    </tr>\n",
       "    <tr>\n",
       "      <th>9</th>\n",
       "      <td>42</td>\n",
       "      <td>16</td>\n",
       "      <td>300</td>\n",
       "      <td>7.142857</td>\n",
       "    </tr>\n",
       "  </tbody>\n",
       "</table>\n",
       "</div>"
      ],
      "text/plain": [
       "   Age  SurvivalInMonths  MutationCount  MutationDensity\n",
       "0   45                12            150         3.333333\n",
       "1   67                20            320         4.776119\n",
       "2   55                36             50         0.909091\n",
       "3   70                10            200         2.857143\n",
       "4   38                24             80         2.105263\n",
       "5   60                30            220         3.666667\n",
       "6   72                 8            400         5.555556\n",
       "7   50                48            180         3.600000\n",
       "8   65                14            250         3.846154\n",
       "9   42                16            300         7.142857"
      ]
     },
     "execution_count": 71,
     "metadata": {},
     "output_type": "execute_result"
    }
   ],
   "source": [
    "#heatdataset=data[['Age','SurvivalInMonths','MutationCount','MutationDensity']]\n",
    "heatdataset=data['Age']\n",
    "heatdataset=pd.concat([heatdataset,data.SurvivalInMonths,data.MutationCount,data.MutationDensity],axis=1)\n",
    "heatdataset"
   ]
  },
  {
   "cell_type": "code",
   "execution_count": 100,
   "id": "a1263673",
   "metadata": {
    "scrolled": false
   },
   "outputs": [
    {
     "data": {
      "image/png": "[encoded data removed]",
      "text/plain": [
       "<Figure size 640x480 with 2 Axes>"
      ]
     },
     "metadata": {},
     "output_type": "display_data"
    }
   ],
   "source": [
    "sns.heatmap(heatdataset,cmap='YlGnBu')\n",
    "plt.show()"
   ]
  },
  {
   "cell_type": "code",
   "execution_count": 101,
   "id": "e41264e0",
   "metadata": {},
   "outputs": [
    {
     "data": {
      "image/png": "[encoded data removed]",
      "text/plain": [
       "<Figure size 640x480 with 1 Axes>"
      ]
     },
     "metadata": {},
     "output_type": "display_data"
    }
   ],
   "source": [
    "plt.barh(data.PatientID,data.Age)\n",
    "plt.xlabel('pid')\n",
    "plt.ylabel('age')\n",
    "plt.show()"
   ]
  },
  {
   "cell_type": "code",
   "execution_count": 102,
   "id": "b9209dfe",
   "metadata": {},
   "outputs": [
    {
     "data": {
      "image/png": "[encoded data removed]",
      "text/plain": [
       "<Figure size 640x480 with 1 Axes>"
      ]
     },
     "metadata": {},
     "output_type": "display_data"
    }
   ],
   "source": [
    "plt.bar(data.PatientID,data.Age)\n",
    "plt.bar(data.PatientID,data.MutationCount,bottom=data.Age)\n",
    "plt.show()"
   ]
  },
  {
   "cell_type": "code",
   "execution_count": 103,
   "id": "aadfff34",
   "metadata": {},
   "outputs": [
    {
     "data": {
      "image/png": "[encoded data removed]",
      "text/plain": [
       "<Figure size 640x480 with 1 Axes>"
      ]
     },
     "metadata": {},
     "output_type": "display_data"
    }
   ],
   "source": [
    "sns.violinplot(data=[data.Age,data.SurvivalInMonths])\n",
    "plt.xticks([0,1],['Age','survicalinMonths'])\n",
    "plt.show()"
   ]
  },
  {
   "cell_type": "code",
   "execution_count": 104,
   "id": "5d7781c6",
   "metadata": {},
   "outputs": [
    {
     "data": {
      "image/png": "[encoded data removed]",
      "text/plain": [
       "<Figure size 640x480 with 1 Axes>"
      ]
     },
     "metadata": {},
     "output_type": "display_data"
    }
   ],
   "source": [
    "plt.pie(data.Age,labels=data.PatientID)\n",
    "plt.show()"
   ]
  },
  {
   "cell_type": "code",
   "execution_count": 110,
   "id": "15243511",
   "metadata": {},
   "outputs": [
    {
     "data": {
      "image/png": "[encoded data removed]",
      "text/plain": [
       "<Figure size 500x500 with 1 Axes>"
      ]
     },
     "metadata": {},
     "output_type": "display_data"
    }
   ],
   "source": [
    "sns.displot(data.Age)\n",
    "plt.show()"
   ]
  },
  {
   "cell_type": "code",
   "execution_count": 112,
   "id": "6dd80cf4",
   "metadata": {},
   "outputs": [
    {
     "name": "stderr",
     "output_type": "stream",
     "text": [
      "D:\\anaconda\\lib\\site-packages\\seaborn\\distributions.py:2619: FutureWarning: `distplot` is a deprecated function and will be removed in a future version. Please adapt your code to use either `displot` (a figure-level function with similar flexibility) or `histplot` (an axes-level function for histograms).\n",
      "  warnings.warn(msg, FutureWarning)\n",
      "D:\\anaconda\\lib\\site-packages\\seaborn\\distributions.py:2619: FutureWarning: `distplot` is a deprecated function and will be removed in a future version. Please adapt your code to use either `displot` (a figure-level function with similar flexibility) or `histplot` (an axes-level function for histograms).\n",
      "  warnings.warn(msg, FutureWarning)\n"
     ]
    },
    {
     "data": {
      "image/png": "[encoded data removed]",
      "text/plain": [
       "<Figure size 640x480 with 1 Axes>"
      ]
     },
     "metadata": {},
     "output_type": "display_data"
    }
   ],
   "source": [
    "sns.distplot(data.Age,label='Age')\n",
    "sns.distplot(data.SurvivalInMonths,label='Months')\n",
    "plt.legend()\n",
    "plt.show()"
   ]
  },
  {
   "cell_type": "code",
   "execution_count": 126,
   "id": "93d3c0be",
   "metadata": {},
   "outputs": [
    {
     "data": {
      "image/png": "[encoded data removed]",
      "text/plain": [
       "<Figure size 640x480 with 1 Axes>"
      ]
     },
     "metadata": {},
     "output_type": "display_data"
    }
   ],
   "source": [
    "plt.scatter(data.PatientID,data.MutationDensity,c=data.MutationDensity<3.15)\n",
    "plt.show()"
   ]
  },
  {
   "cell_type": "code",
   "execution_count": null,
   "id": "f85c6c45",
   "metadata": {},
   "outputs": [],
   "source": []
  }
 ],
 "metadata": {
  "kernelspec": {
   "display_name": "Python 3 (ipykernel)",
   "language": "python",
   "name": "python3"
  },
  "language_info": {
   "codemirror_mode": {
    "name": "ipython",
    "version": 3
   },
   "file_extension": ".py",
   "mimetype": "text/x-python",
   "name": "python",
   "nbconvert_exporter": "python",
   "pygments_lexer": "ipython3",
   "version": "3.9.13"
  }
 },
 "nbformat": 4,
 "nbformat_minor": 5
}
